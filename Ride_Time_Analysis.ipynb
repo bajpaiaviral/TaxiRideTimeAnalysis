{
  "nbformat": 4,
  "nbformat_minor": 0,
  "metadata": {
    "colab": {
      "name": "Ride Time Analysis",
      "provenance": []
    },
    "kernelspec": {
      "name": "python3",
      "display_name": "Python 3"
    },
    "accelerator": "GPU"
  },
  "cells": [
    {
      "cell_type": "code",
      "metadata": {
        "id": "2gJuF3Re9El3",
        "colab_type": "code",
        "colab": {
          "base_uri": "https://localhost:8080/",
          "height": 204
        },
        "outputId": "cdf5469a-0610-4660-98fc-74d34059b921"
      },
      "source": [
        "!pip install kaggle"
      ],
      "execution_count": null,
      "outputs": [
        {
          "output_type": "stream",
          "text": [
            "Requirement already satisfied: kaggle in /usr/local/lib/python3.6/dist-packages (1.5.6)\n",
            "Requirement already satisfied: python-dateutil in /usr/local/lib/python3.6/dist-packages (from kaggle) (2.8.1)\n",
            "Requirement already satisfied: python-slugify in /usr/local/lib/python3.6/dist-packages (from kaggle) (4.0.0)\n",
            "Requirement already satisfied: six>=1.10 in /usr/local/lib/python3.6/dist-packages (from kaggle) (1.12.0)\n",
            "Requirement already satisfied: tqdm in /usr/local/lib/python3.6/dist-packages (from kaggle) (4.41.1)\n",
            "Requirement already satisfied: requests in /usr/local/lib/python3.6/dist-packages (from kaggle) (2.23.0)\n",
            "Requirement already satisfied: urllib3<1.25,>=1.21.1 in /usr/local/lib/python3.6/dist-packages (from kaggle) (1.24.3)\n",
            "Requirement already satisfied: certifi in /usr/local/lib/python3.6/dist-packages (from kaggle) (2020.4.5.1)\n",
            "Requirement already satisfied: text-unidecode>=1.3 in /usr/local/lib/python3.6/dist-packages (from python-slugify->kaggle) (1.3)\n",
            "Requirement already satisfied: idna<3,>=2.5 in /usr/local/lib/python3.6/dist-packages (from requests->kaggle) (2.9)\n",
            "Requirement already satisfied: chardet<4,>=3.0.2 in /usr/local/lib/python3.6/dist-packages (from requests->kaggle) (3.0.4)\n"
          ],
          "name": "stdout"
        }
      ]
    },
    {
      "cell_type": "code",
      "metadata": {
        "id": "-1avUdlg9oPO",
        "colab_type": "code",
        "colab": {}
      },
      "source": [
        "!mkdir .kaggle"
      ],
      "execution_count": null,
      "outputs": []
    },
    {
      "cell_type": "code",
      "metadata": {
        "id": "NJ31s9jo9rK9",
        "colab_type": "code",
        "colab": {
          "base_uri": "https://localhost:8080/",
          "height": 198
        },
        "outputId": "2ba0472d-fd7d-4db5-9aa5-16733c1cd8ec"
      },
      "source": [
        "import json\n",
        "with open('/content/.kaggle/kaggle.json', 'w') as file:\n",
        "    json.dump(token, file)"
      ],
      "execution_count": null,
      "outputs": [
        {
          "output_type": "error",
          "ename": "NameError",
          "evalue": "ignored",
          "traceback": [
            "\u001b[0;31m---------------------------------------------------------------------------\u001b[0m",
            "\u001b[0;31mNameError\u001b[0m                                 Traceback (most recent call last)",
            "\u001b[0;32m<ipython-input-3-9994e5ff07fe>\u001b[0m in \u001b[0;36m<module>\u001b[0;34m()\u001b[0m\n\u001b[1;32m      1\u001b[0m \u001b[0;32mimport\u001b[0m \u001b[0mjson\u001b[0m\u001b[0;34m\u001b[0m\u001b[0;34m\u001b[0m\u001b[0m\n\u001b[1;32m      2\u001b[0m \u001b[0;32mwith\u001b[0m \u001b[0mopen\u001b[0m\u001b[0;34m(\u001b[0m\u001b[0;34m'/content/.kaggle/kaggle.json'\u001b[0m\u001b[0;34m,\u001b[0m \u001b[0;34m'w'\u001b[0m\u001b[0;34m)\u001b[0m \u001b[0;32mas\u001b[0m \u001b[0mfile\u001b[0m\u001b[0;34m:\u001b[0m\u001b[0;34m\u001b[0m\u001b[0;34m\u001b[0m\u001b[0m\n\u001b[0;32m----> 3\u001b[0;31m     \u001b[0mjson\u001b[0m\u001b[0;34m.\u001b[0m\u001b[0mdump\u001b[0m\u001b[0;34m(\u001b[0m\u001b[0mtoken\u001b[0m\u001b[0;34m,\u001b[0m \u001b[0mfile\u001b[0m\u001b[0;34m)\u001b[0m\u001b[0;34m\u001b[0m\u001b[0;34m\u001b[0m\u001b[0m\n\u001b[0m",
            "\u001b[0;31mNameError\u001b[0m: name 'token' is not defined"
          ]
        }
      ]
    },
    {
      "cell_type": "code",
      "metadata": {
        "id": "MMIjLJns-cEt",
        "colab_type": "code",
        "colab": {
          "base_uri": "https://localhost:8080/",
          "height": 34
        },
        "outputId": "0854d4ab-d09f-46e3-8c95-08bb2671426e"
      },
      "source": [
        "!cp /content/.kaggle/kaggle.json ~/.kaggle/kaggle.json"
      ],
      "execution_count": null,
      "outputs": [
        {
          "output_type": "stream",
          "text": [
            "cp: cannot create regular file '/root/.kaggle/kaggle.json': No such file or directory\n"
          ],
          "name": "stdout"
        }
      ]
    },
    {
      "cell_type": "code",
      "metadata": {
        "id": "dP974Uib-wJm",
        "colab_type": "code",
        "colab": {
          "base_uri": "https://localhost:8080/",
          "height": 34
        },
        "outputId": "3de97c8c-ab39-4b63-8636-5ac16a41a6e8"
      },
      "source": [
        "!kaggle config set -n path -v{}"
      ],
      "execution_count": null,
      "outputs": [
        {
          "output_type": "stream",
          "text": [
            "- path is now set to: {}\n"
          ],
          "name": "stdout"
        }
      ]
    },
    {
      "cell_type": "code",
      "metadata": {
        "id": "KWM0zYgk-z42",
        "colab_type": "code",
        "colab": {}
      },
      "source": [
        "!chmod 600 /root/.kaggle/kaggle.json"
      ],
      "execution_count": null,
      "outputs": []
    },
    {
      "cell_type": "code",
      "metadata": {
        "id": "0Q0X--7u_Qdq",
        "colab_type": "code",
        "colab": {
          "base_uri": "https://localhost:8080/",
          "height": 403
        },
        "outputId": "42d68365-d26c-452e-a890-8fa6b2c17877"
      },
      "source": [
        "!kaggle competitions list"
      ],
      "execution_count": null,
      "outputs": [
        {
          "output_type": "stream",
          "text": [
            "Warning: Looks like you're using an outdated API Version, please consider updating (server 1.5.6 / client 1.5.4)\n",
            "ref                                               deadline             category            reward  teamCount  userHasEntered  \n",
            "------------------------------------------------  -------------------  ---------------  ---------  ---------  --------------  \n",
            "digit-recognizer                                  2030-01-01 00:00:00  Getting Started  Knowledge       3202           False  \n",
            "titanic                                           2030-01-01 00:00:00  Getting Started  Knowledge      23941           False  \n",
            "house-prices-advanced-regression-techniques       2030-01-01 00:00:00  Getting Started  Knowledge       5429            True  \n",
            "connectx                                          2030-01-01 00:00:00  Getting Started  Knowledge        387           False  \n",
            "nlp-getting-started                               2030-01-01 00:00:00  Getting Started      Kudos       1716           False  \n",
            "competitive-data-science-predict-future-sales     2020-12-31 23:59:00  Playground           Kudos       7273           False  \n",
            "siim-isic-melanoma-classification                 2020-08-17 23:59:00  Featured           $30,000        817           False  \n",
            "global-wheat-detection                            2020-08-04 23:59:00  Research           $15,000        803           False  \n",
            "open-images-object-detection-rvc-2020             2020-07-31 16:00:00  Playground       Knowledge         26           False  \n",
            "open-images-instance-segmentation-rvc-2020        2020-07-31 16:00:00  Playground       Knowledge          5           False  \n",
            "hashcode-photo-slideshow                          2020-07-27 23:59:00  Playground       Knowledge         35           False  \n",
            "prostate-cancer-grade-assessment                  2020-07-22 23:59:00  Featured           $25,000        558           False  \n",
            "alaska2-image-steganalysis                        2020-07-20 23:59:00  Research           $25,000        513            True  \n",
            "halite                                            2020-06-30 23:59:00  Featured             Kudos          0           False  \n",
            "m5-forecasting-accuracy                           2020-06-30 23:59:00  Featured           $50,000       4893           False  \n",
            "m5-forecasting-uncertainty                        2020-06-30 23:59:00  Featured           $50,000        615           False  \n",
            "trends-assessment-prediction                      2020-06-29 23:59:00  Research           $25,000        671           False  \n",
            "jigsaw-multilingual-toxic-comment-classification  2020-06-22 23:59:00  Featured           $50,000       1388           False  \n",
            "tweet-sentiment-extraction                        2020-06-16 23:59:00  Featured           $15,000       2060           False  \n",
            "trec-covid-information-retrieval                  2020-06-03 11:00:00  Research             Kudos         19           False  \n"
          ],
          "name": "stdout"
        }
      ]
    },
    {
      "cell_type": "code",
      "metadata": {
        "id": "3g88rw3vCk27",
        "colab_type": "code",
        "colab": {
          "base_uri": "https://localhost:8080/",
          "height": 84
        },
        "outputId": "ececdd4d-7ee9-4e0a-aadf-6b937c9e4b83"
      },
      "source": [
        "!kaggle competitions list -s nyc-taxi-trip-duration"
      ],
      "execution_count": null,
      "outputs": [
        {
          "output_type": "stream",
          "text": [
            "Warning: Looks like you're using an outdated API Version, please consider updating (server 1.5.6 / client 1.5.4)\n",
            "ref                     deadline             category     reward  teamCount  userHasEntered  \n",
            "----------------------  -------------------  ----------  -------  ---------  --------------  \n",
            "nyc-taxi-trip-duration  2017-09-15 23:59:00  Playground  $30,000       1257            True  \n"
          ],
          "name": "stdout"
        }
      ]
    },
    {
      "cell_type": "code",
      "metadata": {
        "id": "A56O77wFC8CS",
        "colab_type": "code",
        "colab": {
          "base_uri": "https://localhost:8080/",
          "height": 84
        },
        "outputId": "382cf9cc-1992-44c8-e335-166ed3c62e66"
      },
      "source": [
        "!kaggle competitions download -c nyc-taxi-trip-duration"
      ],
      "execution_count": null,
      "outputs": [
        {
          "output_type": "stream",
          "text": [
            "Warning: Looks like you're using an outdated API Version, please consider updating (server 1.5.6 / client 1.5.4)\n",
            "test.zip: Skipping, found more recently modified local copy (use --force to force download)\n",
            "train.zip: Skipping, found more recently modified local copy (use --force to force download)\n",
            "sample_submission.zip: Skipping, found more recently modified local copy (use --force to force download)\n"
          ],
          "name": "stdout"
        }
      ]
    },
    {
      "cell_type": "code",
      "metadata": {
        "id": "sIhCU28YECr9",
        "colab_type": "code",
        "colab": {
          "base_uri": "https://localhost:8080/",
          "height": 269
        },
        "outputId": "ca83127d-0655-4513-d145-8d9c029e9b21"
      },
      "source": [
        "!kaggle competitions download -c nyc-taxi-trip-duration -p /content\n",
        "!unzip \\*.zip"
      ],
      "execution_count": null,
      "outputs": [
        {
          "output_type": "stream",
          "text": [
            "Warning: Looks like you're using an outdated API Version, please consider updating (server 1.5.6 / client 1.5.4)\n",
            "train.zip: Skipping, found more recently modified local copy (use --force to force download)\n",
            "test.zip: Skipping, found more recently modified local copy (use --force to force download)\n",
            "sample_submission.zip: Skipping, found more recently modified local copy (use --force to force download)\n",
            "Archive:  sample_submission.zip\n",
            "replace sample_submission.csv? [y]es, [n]o, [A]ll, [N]one, [r]ename: A\n",
            "  inflating: sample_submission.csv   \n",
            "\n",
            "Archive:  train.zip\n",
            "  inflating: train.csv               \n",
            "\n",
            "Archive:  test.zip\n",
            "  inflating: test.csv                \n",
            "\n",
            "3 archives were successfully processed.\n"
          ],
          "name": "stdout"
        }
      ]
    },
    {
      "cell_type": "code",
      "metadata": {
        "id": "XWIAB7NtFnNX",
        "colab_type": "code",
        "colab": {
          "base_uri": "https://localhost:8080/",
          "height": 70
        },
        "outputId": "cf18476b-b5ef-4da3-e363-686af019c619"
      },
      "source": [
        "import pandas as pd\n",
        "import numpy as np\n",
        "import matplotlib.pyplot as plt\n",
        "%matplotlib inline\n",
        "import seaborn as sns\n",
        "from datetime import datetime\n",
        "from sklearn.cluster import MiniBatchKMeans\n",
        "from sklearn.model_selection import train_test_split\n",
        "from sklearn.model_selection import cross_val_score\n",
        "import xgboost as xgb\n",
        "from sklearn.utils import shuffle"
      ],
      "execution_count": null,
      "outputs": [
        {
          "output_type": "stream",
          "text": [
            "/usr/local/lib/python3.6/dist-packages/statsmodels/tools/_testing.py:19: FutureWarning: pandas.util.testing is deprecated. Use the functions in the public API at pandas.testing instead.\n",
            "  import pandas.util.testing as tm\n"
          ],
          "name": "stderr"
        }
      ]
    },
    {
      "cell_type": "code",
      "metadata": {
        "id": "Y8BCIyR6GX6q",
        "colab_type": "code",
        "colab": {}
      },
      "source": [
        "train=pd.read_csv('/content/train.csv')"
      ],
      "execution_count": null,
      "outputs": []
    },
    {
      "cell_type": "code",
      "metadata": {
        "id": "7Bslc8yFGZSa",
        "colab_type": "code",
        "colab": {}
      },
      "source": [
        "test=pd.read_csv('/content/test.csv')"
      ],
      "execution_count": null,
      "outputs": []
    },
    {
      "cell_type": "code",
      "metadata": {
        "id": "Dstex1-3GrW2",
        "colab_type": "code",
        "colab": {
          "base_uri": "https://localhost:8080/",
          "height": 605
        },
        "outputId": "07f9939b-0959-4bda-f37c-06993fe1efff"
      },
      "source": [
        "test.info(),train.info()"
      ],
      "execution_count": null,
      "outputs": [
        {
          "output_type": "stream",
          "text": [
            "<class 'pandas.core.frame.DataFrame'>\n",
            "RangeIndex: 625134 entries, 0 to 625133\n",
            "Data columns (total 9 columns):\n",
            " #   Column              Non-Null Count   Dtype  \n",
            "---  ------              --------------   -----  \n",
            " 0   id                  625134 non-null  object \n",
            " 1   vendor_id           625134 non-null  int64  \n",
            " 2   pickup_datetime     625134 non-null  object \n",
            " 3   passenger_count     625134 non-null  int64  \n",
            " 4   pickup_longitude    625134 non-null  float64\n",
            " 5   pickup_latitude     625134 non-null  float64\n",
            " 6   dropoff_longitude   625134 non-null  float64\n",
            " 7   dropoff_latitude    625134 non-null  float64\n",
            " 8   store_and_fwd_flag  625134 non-null  object \n",
            "dtypes: float64(4), int64(2), object(3)\n",
            "memory usage: 42.9+ MB\n",
            "<class 'pandas.core.frame.DataFrame'>\n",
            "RangeIndex: 1458644 entries, 0 to 1458643\n",
            "Data columns (total 11 columns):\n",
            " #   Column              Non-Null Count    Dtype  \n",
            "---  ------              --------------    -----  \n",
            " 0   id                  1458644 non-null  object \n",
            " 1   vendor_id           1458644 non-null  int64  \n",
            " 2   pickup_datetime     1458644 non-null  object \n",
            " 3   dropoff_datetime    1458644 non-null  object \n",
            " 4   passenger_count     1458644 non-null  int64  \n",
            " 5   pickup_longitude    1458644 non-null  float64\n",
            " 6   pickup_latitude     1458644 non-null  float64\n",
            " 7   dropoff_longitude   1458644 non-null  float64\n",
            " 8   dropoff_latitude    1458644 non-null  float64\n",
            " 9   store_and_fwd_flag  1458644 non-null  object \n",
            " 10  trip_duration       1458644 non-null  int64  \n",
            "dtypes: float64(4), int64(3), object(4)\n",
            "memory usage: 122.4+ MB\n"
          ],
          "name": "stdout"
        },
        {
          "output_type": "execute_result",
          "data": {
            "text/plain": [
              "(None, None)"
            ]
          },
          "metadata": {
            "tags": []
          },
          "execution_count": 14
        }
      ]
    },
    {
      "cell_type": "code",
      "metadata": {
        "id": "deoDxg1fGtwm",
        "colab_type": "code",
        "colab": {
          "base_uri": "https://localhost:8080/",
          "height": 34
        },
        "outputId": "228d67b8-c1c5-4437-93ec-8419b2439316"
      },
      "source": [
        "test.shape[0]/train.shape[0]"
      ],
      "execution_count": null,
      "outputs": [
        {
          "output_type": "execute_result",
          "data": {
            "text/plain": [
              "0.42857201620134866"
            ]
          },
          "metadata": {
            "tags": []
          },
          "execution_count": 15
        }
      ]
    },
    {
      "cell_type": "code",
      "metadata": {
        "id": "59fp0NrjGwQh",
        "colab_type": "code",
        "colab": {
          "base_uri": "https://localhost:8080/",
          "height": 101
        },
        "outputId": "293833ba-5347-4716-b636-641327743181"
      },
      "source": [
        "train.columns"
      ],
      "execution_count": null,
      "outputs": [
        {
          "output_type": "execute_result",
          "data": {
            "text/plain": [
              "Index(['id', 'vendor_id', 'pickup_datetime', 'dropoff_datetime',\n",
              "       'passenger_count', 'pickup_longitude', 'pickup_latitude',\n",
              "       'dropoff_longitude', 'dropoff_latitude', 'store_and_fwd_flag',\n",
              "       'trip_duration'],\n",
              "      dtype='object')"
            ]
          },
          "metadata": {
            "tags": []
          },
          "execution_count": 16
        }
      ]
    },
    {
      "cell_type": "code",
      "metadata": {
        "id": "8P0f_00oGySo",
        "colab_type": "code",
        "colab": {
          "base_uri": "https://localhost:8080/",
          "height": 84
        },
        "outputId": "595e37f0-65b5-4886-f9cb-96eab11e6bd2"
      },
      "source": [
        "test.columns"
      ],
      "execution_count": null,
      "outputs": [
        {
          "output_type": "execute_result",
          "data": {
            "text/plain": [
              "Index(['id', 'vendor_id', 'pickup_datetime', 'passenger_count',\n",
              "       'pickup_longitude', 'pickup_latitude', 'dropoff_longitude',\n",
              "       'dropoff_latitude', 'store_and_fwd_flag'],\n",
              "      dtype='object')"
            ]
          },
          "metadata": {
            "tags": []
          },
          "execution_count": 17
        }
      ]
    },
    {
      "cell_type": "code",
      "metadata": {
        "id": "HndoctaqG0px",
        "colab_type": "code",
        "colab": {
          "base_uri": "https://localhost:8080/",
          "height": 34
        },
        "outputId": "98eb6809-383e-413d-e8dc-1e12763835e2"
      },
      "source": [
        "print(min(train['pickup_latitude']),max(train['pickup_latitude']))"
      ],
      "execution_count": null,
      "outputs": [
        {
          "output_type": "stream",
          "text": [
            "34.359695434570305 51.88108444213867\n"
          ],
          "name": "stdout"
        }
      ]
    },
    {
      "cell_type": "code",
      "metadata": {
        "id": "mS2lgd-eG2sD",
        "colab_type": "code",
        "colab": {
          "base_uri": "https://localhost:8080/",
          "height": 34
        },
        "outputId": "95f59c8f-0a23-41bd-e32a-ff1a9c00dcde"
      },
      "source": [
        "#min_latitude=train['pickup_latitude'].mean()-3*np.std(train['pickup_latitude'])\n",
        "#max_latitude=train['pickup_latitude'].mean()+3*np.std(train['pickup_latitude'])\n",
        "#min_longitude=train['pickup_longitude'].mean()-3*np.std(train['pickup_longitude'])\n",
        "#max_longitude=train['pickup_longitude'].mean()+3*np.std(train['pickup_longitude'])\n",
        "max_latitude=40.85\n",
        "min_latitude=40.63\n",
        "max_longitude=-73.75\n",
        "min_longitude=-74.03\n",
        "city_long_border = (-74.03, -73.75)\n",
        "city_lat_border = (40.63, 40.85)\n",
        "\n",
        "min_latitude,max_latitude,min_longitude,max_longitude"
      ],
      "execution_count": null,
      "outputs": [
        {
          "output_type": "execute_result",
          "data": {
            "text/plain": [
              "(40.63, 40.85, -74.03, -73.75)"
            ]
          },
          "metadata": {
            "tags": []
          },
          "execution_count": 19
        }
      ]
    },
    {
      "cell_type": "code",
      "metadata": {
        "id": "Dw2qaO7RG5_M",
        "colab_type": "code",
        "colab": {
          "base_uri": "https://localhost:8080/",
          "height": 34
        },
        "outputId": "08eda8a9-b6dd-4bbd-8707-ffbddc1880ee"
      },
      "source": [
        "real_size=train.shape[0]\n",
        "train = train[train['pickup_longitude'] <= max_longitude]\n",
        "#print(train.shape)\n",
        "train = train[train['pickup_longitude'] >= min_longitude]\n",
        "train = train[train['pickup_latitude'] <= max_latitude]\n",
        "train = train[train['pickup_latitude'] >= min_latitude]\n",
        "train = train[train['dropoff_longitude'] <= max_longitude]\n",
        "train = train[train['dropoff_longitude'] >= min_longitude]\n",
        "train = train[train['dropoff_latitude'] <= max_latitude]\n",
        "train = train[train['dropoff_latitude'] >= min_latitude]\n",
        "now_size=train.shape[0]\n",
        "print(now_size/real_size)\n"
      ],
      "execution_count": null,
      "outputs": [
        {
          "output_type": "stream",
          "text": [
            "0.9866581564795797\n"
          ],
          "name": "stdout"
        }
      ]
    },
    {
      "cell_type": "code",
      "metadata": {
        "id": "9GitcgvQG78H",
        "colab_type": "code",
        "colab": {
          "base_uri": "https://localhost:8080/",
          "height": 498
        },
        "outputId": "58042b61-da73-4067-bf1e-c882b5d7bb4b"
      },
      "source": [
        "z=train['trip_duration']\n",
        "print(z.sort_values(ascending=False))\n",
        "sns.distplot(np.log(z))\n",
        "z.mean()\n",
        "real_size=train.shape[0]\n",
        "train=train[train['trip_duration']<=86392]\n",
        "now_size=train.shape[0]\n",
        "print(now_size/real_size)"
      ],
      "execution_count": null,
      "outputs": [
        {
          "output_type": "stream",
          "text": [
            "978383     3526282\n",
            "924150     2227612\n",
            "680594     2049578\n",
            "355003     1939736\n",
            "1234291      86392\n",
            "            ...   \n",
            "1034341          1\n",
            "207497           1\n",
            "467645           1\n",
            "761666           1\n",
            "767271           1\n",
            "Name: trip_duration, Length: 1439183, dtype: int64\n",
            "0.9999972206453245\n"
          ],
          "name": "stdout"
        },
        {
          "output_type": "display_data",
          "data": {
            "image/png": "[encoded data removed]",
            "text/plain": [
              "<Figure size 432x288 with 1 Axes>"
            ]
          },
          "metadata": {
            "tags": [],
            "needs_background": "light"
          }
        }
      ]
    },
    {
      "cell_type": "code",
      "metadata": {
        "id": "QZ_PMIIIG9wy",
        "colab_type": "code",
        "colab": {
          "base_uri": "https://localhost:8080/",
          "height": 34
        },
        "outputId": "568682c9-195d-44ff-a842-8e24ab2808db"
      },
      "source": [
        "train['pickup_datetime'][0]"
      ],
      "execution_count": null,
      "outputs": [
        {
          "output_type": "execute_result",
          "data": {
            "text/plain": [
              "'2016-03-14 17:24:55'"
            ]
          },
          "metadata": {
            "tags": []
          },
          "execution_count": 22
        }
      ]
    },
    {
      "cell_type": "code",
      "metadata": {
        "id": "7dq4B8_7HBxf",
        "colab_type": "code",
        "colab": {}
      },
      "source": [
        "train['pickup_datetime'] = pd.to_datetime(train.pickup_datetime)\n",
        "test['pickup_datetime'] = pd.to_datetime(test.pickup_datetime)"
      ],
      "execution_count": null,
      "outputs": []
    },
    {
      "cell_type": "code",
      "metadata": {
        "id": "d7Xt70GzHGe8",
        "colab_type": "code",
        "colab": {
          "base_uri": "https://localhost:8080/",
          "height": 218
        },
        "outputId": "e2b0e803-3700-4756-e040-a625e7e7dad9"
      },
      "source": [
        "train['pickup_datetime']\n",
        "test['pickup_datetime']"
      ],
      "execution_count": null,
      "outputs": [
        {
          "output_type": "execute_result",
          "data": {
            "text/plain": [
              "0        2016-06-30 23:59:58\n",
              "1        2016-06-30 23:59:53\n",
              "2        2016-06-30 23:59:47\n",
              "3        2016-06-30 23:59:41\n",
              "4        2016-06-30 23:59:33\n",
              "                 ...        \n",
              "625129   2016-01-01 00:02:52\n",
              "625130   2016-01-01 00:01:52\n",
              "625131   2016-01-01 00:01:24\n",
              "625132   2016-01-01 00:00:28\n",
              "625133   2016-01-01 00:00:22\n",
              "Name: pickup_datetime, Length: 625134, dtype: datetime64[ns]"
            ]
          },
          "metadata": {
            "tags": []
          },
          "execution_count": 24
        }
      ]
    },
    {
      "cell_type": "code",
      "metadata": {
        "id": "YBw5Ld83HIYY",
        "colab_type": "code",
        "colab": {}
      },
      "source": [
        "train.loc[:, 'pick_date'] = train['pickup_datetime'].dt.date\n",
        "test.loc[:, 'pick_date'] = test['pickup_datetime'].dt.date"
      ],
      "execution_count": null,
      "outputs": []
    },
    {
      "cell_type": "code",
      "metadata": {
        "id": "-t2p4YytHKi8",
        "colab_type": "code",
        "colab": {
          "base_uri": "https://localhost:8080/",
          "height": 218
        },
        "outputId": "eac3bcce-6742-42a3-8367-3f404d93d427"
      },
      "source": [
        "\n",
        "train['pick_date']\n",
        "test['pick_date']"
      ],
      "execution_count": null,
      "outputs": [
        {
          "output_type": "execute_result",
          "data": {
            "text/plain": [
              "0         2016-06-30\n",
              "1         2016-06-30\n",
              "2         2016-06-30\n",
              "3         2016-06-30\n",
              "4         2016-06-30\n",
              "             ...    \n",
              "625129    2016-01-01\n",
              "625130    2016-01-01\n",
              "625131    2016-01-01\n",
              "625132    2016-01-01\n",
              "625133    2016-01-01\n",
              "Name: pick_date, Length: 625134, dtype: object"
            ]
          },
          "metadata": {
            "tags": []
          },
          "execution_count": 26
        }
      ]
    },
    {
      "cell_type": "code",
      "metadata": {
        "id": "xFh3kJEfHMq1",
        "colab_type": "code",
        "colab": {}
      },
      "source": [
        "# plt.figure(figsize=(10,15))\n",
        "# plt.plot(train.groupby(['pick_date']).count(),color='red')\n",
        "# plt.plot(test.groupby(['pick_date']).count(),color='green')\n"
      ],
      "execution_count": null,
      "outputs": []
    },
    {
      "cell_type": "code",
      "metadata": {
        "id": "KZbSbrYiHO9P",
        "colab_type": "code",
        "colab": {}
      },
      "source": [
        "train['pick_month'] = train['pickup_datetime'].dt.month\n",
        "train['pick_hour']=train['pickup_datetime'].dt.hour\n",
        "train['pick_day']=train['pickup_datetime'].dt.dayofweek\n",
        "\n",
        "test['pick_month'] = test['pickup_datetime'].dt.month\n",
        "test['pick_hour']=test['pickup_datetime'].dt.hour\n",
        "test['pick_day']=test['pickup_datetime'].dt.dayofweek\n"
      ],
      "execution_count": null,
      "outputs": []
    },
    {
      "cell_type": "code",
      "metadata": {
        "id": "ZIuHarhUHSJH",
        "colab_type": "code",
        "colab": {}
      },
      "source": [
        "# train['pick_month']\n",
        "# z=train['pickup_datetime'].dt.dayofweek"
      ],
      "execution_count": null,
      "outputs": []
    },
    {
      "cell_type": "code",
      "metadata": {
        "id": "ZUkgGplzHT3w",
        "colab_type": "code",
        "colab": {
          "base_uri": "https://localhost:8080/",
          "height": 34
        },
        "outputId": "9785ecfd-c095-41a2-b6c0-6c80d26a540b"
      },
      "source": [
        "z.nunique()"
      ],
      "execution_count": null,
      "outputs": [
        {
          "output_type": "execute_result",
          "data": {
            "text/plain": [
              "7311"
            ]
          },
          "metadata": {
            "tags": []
          },
          "execution_count": 30
        }
      ]
    },
    {
      "cell_type": "code",
      "metadata": {
        "id": "Z8nez9fTHV60",
        "colab_type": "code",
        "colab": {}
      },
      "source": [
        "# plt.plot(train.groupby('pick_day')['trip_duration'].mean(),'-')\n",
        "# plt.xlabel('Day Of Week')\n",
        "# plt.ylabel('Mean Trip Duration')"
      ],
      "execution_count": null,
      "outputs": []
    },
    {
      "cell_type": "code",
      "metadata": {
        "id": "zbqy41BtHXhs",
        "colab_type": "code",
        "colab": {}
      },
      "source": [
        "# plt.plot(train.groupby('passenger_count')['trip_duration'].mean(),'-o')"
      ],
      "execution_count": null,
      "outputs": []
    },
    {
      "cell_type": "code",
      "metadata": {
        "id": "WkXbwZpmHZrn",
        "colab_type": "code",
        "colab": {}
      },
      "source": [
        "# train.groupby('passenger_count').count()\n",
        "# #sns.distplot(train.groupby('passenger_count').count())"
      ],
      "execution_count": null,
      "outputs": []
    },
    {
      "cell_type": "code",
      "metadata": {
        "id": "efuWueZCHbgT",
        "colab_type": "code",
        "colab": {
          "base_uri": "https://localhost:8080/",
          "height": 156
        },
        "outputId": "0a0183e0-8487-4d4d-bada-0ba37ea297e3"
      },
      "source": [
        "train.groupby('vendor_id').count()"
      ],
      "execution_count": null,
      "outputs": [
        {
          "output_type": "execute_result",
          "data": {
            "text/html": [
              "<div>\n",
              "<style scoped>\n",
              "    .dataframe tbody tr th:only-of-type {\n",
              "        vertical-align: middle;\n",
              "    }\n",
              "\n",
              "    .dataframe tbody tr th {\n",
              "        vertical-align: top;\n",
              "    }\n",
              "\n",
              "    .dataframe thead th {\n",
              "        text-align: right;\n",
              "    }\n",
              "</style>\n",
              "<table border=\"1\" class=\"dataframe\">\n",
              "  <thead>\n",
              "    <tr style=\"text-align: right;\">\n",
              "      <th></th>\n",
              "      <th>id</th>\n",
              "      <th>pickup_datetime</th>\n",
              "      <th>dropoff_datetime</th>\n",
              "      <th>passenger_count</th>\n",
              "      <th>pickup_longitude</th>\n",
              "      <th>pickup_latitude</th>\n",
              "      <th>dropoff_longitude</th>\n",
              "      <th>dropoff_latitude</th>\n",
              "      <th>store_and_fwd_flag</th>\n",
              "      <th>trip_duration</th>\n",
              "      <th>pick_date</th>\n",
              "      <th>pick_month</th>\n",
              "      <th>pick_hour</th>\n",
              "      <th>pick_day</th>\n",
              "    </tr>\n",
              "    <tr>\n",
              "      <th>vendor_id</th>\n",
              "      <th></th>\n",
              "      <th></th>\n",
              "      <th></th>\n",
              "      <th></th>\n",
              "      <th></th>\n",
              "      <th></th>\n",
              "      <th></th>\n",
              "      <th></th>\n",
              "      <th></th>\n",
              "      <th></th>\n",
              "      <th></th>\n",
              "      <th></th>\n",
              "      <th></th>\n",
              "      <th></th>\n",
              "    </tr>\n",
              "  </thead>\n",
              "  <tbody>\n",
              "    <tr>\n",
              "      <th>1</th>\n",
              "      <td>669297</td>\n",
              "      <td>669297</td>\n",
              "      <td>669297</td>\n",
              "      <td>669297</td>\n",
              "      <td>669297</td>\n",
              "      <td>669297</td>\n",
              "      <td>669297</td>\n",
              "      <td>669297</td>\n",
              "      <td>669297</td>\n",
              "      <td>669297</td>\n",
              "      <td>669297</td>\n",
              "      <td>669297</td>\n",
              "      <td>669297</td>\n",
              "      <td>669297</td>\n",
              "    </tr>\n",
              "    <tr>\n",
              "      <th>2</th>\n",
              "      <td>769882</td>\n",
              "      <td>769882</td>\n",
              "      <td>769882</td>\n",
              "      <td>769882</td>\n",
              "      <td>769882</td>\n",
              "      <td>769882</td>\n",
              "      <td>769882</td>\n",
              "      <td>769882</td>\n",
              "      <td>769882</td>\n",
              "      <td>769882</td>\n",
              "      <td>769882</td>\n",
              "      <td>769882</td>\n",
              "      <td>769882</td>\n",
              "      <td>769882</td>\n",
              "    </tr>\n",
              "  </tbody>\n",
              "</table>\n",
              "</div>"
            ],
            "text/plain": [
              "               id  pickup_datetime  ...  pick_hour  pick_day\n",
              "vendor_id                           ...                     \n",
              "1          669297           669297  ...     669297    669297\n",
              "2          769882           769882  ...     769882    769882\n",
              "\n",
              "[2 rows x 14 columns]"
            ]
          },
          "metadata": {
            "tags": []
          },
          "execution_count": 34
        }
      ]
    },
    {
      "cell_type": "code",
      "metadata": {
        "id": "rFcEHFImHdYL",
        "colab_type": "code",
        "colab": {}
      },
      "source": [
        "# temp=train.groupby('vendor_id')['trip_duration'].mean()\n",
        "# sns.barplot(temp.index,temp.values)"
      ],
      "execution_count": null,
      "outputs": []
    },
    {
      "cell_type": "code",
      "metadata": {
        "id": "OmPhqj4XHfEv",
        "colab_type": "code",
        "colab": {}
      },
      "source": [
        "# sns.scatterplot(train['vendor_id'],train['trip_duration'])"
      ],
      "execution_count": null,
      "outputs": []
    },
    {
      "cell_type": "code",
      "metadata": {
        "id": "mbjqoOsaHg5A",
        "colab_type": "code",
        "colab": {
          "base_uri": "https://localhost:8080/",
          "height": 269
        },
        "outputId": "ed315578-14f4-4c61-d3d9-8215b4a24ba8"
      },
      "source": [
        "print(train.head(),test.head())"
      ],
      "execution_count": null,
      "outputs": [
        {
          "output_type": "stream",
          "text": [
            "          id  vendor_id     pickup_datetime  ... pick_month  pick_hour  pick_day\n",
            "0  id2875421          2 2016-03-14 17:24:55  ...          3         17         0\n",
            "1  id2377394          1 2016-06-12 00:43:35  ...          6          0         6\n",
            "2  id3858529          2 2016-01-19 11:35:24  ...          1         11         1\n",
            "3  id3504673          2 2016-04-06 19:32:31  ...          4         19         2\n",
            "4  id2181028          2 2016-03-26 13:30:55  ...          3         13         5\n",
            "\n",
            "[5 rows x 15 columns]           id  vendor_id     pickup_datetime  ...  pick_month  pick_hour  pick_day\n",
            "0  id3004672          1 2016-06-30 23:59:58  ...           6         23         3\n",
            "1  id3505355          1 2016-06-30 23:59:53  ...           6         23         3\n",
            "2  id1217141          1 2016-06-30 23:59:47  ...           6         23         3\n",
            "3  id2150126          2 2016-06-30 23:59:41  ...           6         23         3\n",
            "4  id1598245          1 2016-06-30 23:59:33  ...           6         23         3\n",
            "\n",
            "[5 rows x 13 columns]\n"
          ],
          "name": "stdout"
        }
      ]
    },
    {
      "cell_type": "code",
      "metadata": {
        "id": "ZOmm7-JTHkfE",
        "colab_type": "code",
        "colab": {
          "base_uri": "https://localhost:8080/",
          "height": 282
        },
        "outputId": "e4ff26c8-b41a-4c55-b1db-9e9f7c555c9d"
      },
      "source": [
        "temp=train.groupby('pick_hour')['trip_duration'].mean()\n",
        "plt.plot(temp.values)"
      ],
      "execution_count": null,
      "outputs": [
        {
          "output_type": "execute_result",
          "data": {
            "text/plain": [
              "[<matplotlib.lines.Line2D at 0x7fa7ed2d7320>]"
            ]
          },
          "metadata": {
            "tags": []
          },
          "execution_count": 38
        },
        {
          "output_type": "display_data",
          "data": {
            "image/png": "[encoded data removed]",
            "text/plain": [
              "<Figure size 432x288 with 1 Axes>"
            ]
          },
          "metadata": {
            "tags": [],
            "needs_background": "light"
          }
        }
      ]
    },
    {
      "cell_type": "code",
      "metadata": {
        "id": "eCf8TQxGHmwe",
        "colab_type": "code",
        "colab": {}
      },
      "source": [
        "# plt.scatter(train['pickup_longitude'],train['pickup_latitude'],color='blue', s=1, label='train', alpha=0.1)\n",
        "# fig, ax = plt.subplots(ncols=1, nrows=1)\n",
        "# ax.scatter(test.pickup_longitude.values[:500000], test.pickup_latitude.values[:500000], s=10, lw=0, color='red', alpha=0.2)\n",
        "# ax.set_xlim(city_long_border)\n",
        "# ax.set_ylim(city_lat_border)\n",
        "# #x[0].scatter(train['pickup_longitude'].values[:100000], train['pickup_latitude'].values[:100000],\n",
        "# #              )"
      ],
      "execution_count": null,
      "outputs": []
    },
    {
      "cell_type": "code",
      "metadata": {
        "id": "7fRNY0yvHoT1",
        "colab_type": "code",
        "colab": {
          "base_uri": "https://localhost:8080/",
          "height": 34
        },
        "outputId": "a63847d1-5158-4057-a91e-625b860ba21b"
      },
      "source": [
        "coordinates=np.vstack((train[['pickup_latitude','pickup_longitude']].values,\n",
        "                     train[['dropoff_latitude','dropoff_longitude']].values\n",
        "                     ))\n",
        "print(coordinates[2])"
      ],
      "execution_count": null,
      "outputs": [
        {
          "output_type": "stream",
          "text": [
            "[ 40.7639389  -73.97902679]\n"
          ],
          "name": "stdout"
        }
      ]
    },
    {
      "cell_type": "code",
      "metadata": {
        "id": "QC6zmzYvHp-X",
        "colab_type": "code",
        "colab": {}
      },
      "source": [
        "kmeans = MiniBatchKMeans(n_clusters=100, batch_size=10000).fit(coordinates)"
      ],
      "execution_count": null,
      "outputs": []
    },
    {
      "cell_type": "code",
      "metadata": {
        "id": "UTw_YKU7HrkU",
        "colab_type": "code",
        "colab": {}
      },
      "source": [
        "train[['pickup_latitude','pickup_longitude']].values[0]\n",
        "temp=kmeans.predict(train[['pickup_latitude','pickup_longitude']].values.reshape(-1,2))"
      ],
      "execution_count": null,
      "outputs": []
    },
    {
      "cell_type": "code",
      "metadata": {
        "id": "sTbqXbxtHs8X",
        "colab_type": "code",
        "colab": {}
      },
      "source": [
        "# plt.figure(figsize=(15,15))\n",
        "# plt.scatter(train['pickup_longitude'],train['pickup_latitude'],c=temp, s=1, label='train', alpha=0.1,cmap='plasma')"
      ],
      "execution_count": null,
      "outputs": []
    },
    {
      "cell_type": "code",
      "metadata": {
        "id": "CQmrrQf3HwfQ",
        "colab_type": "code",
        "colab": {}
      },
      "source": [
        "train['pickup_cluster']=kmeans.predict(train[['pickup_latitude','pickup_longitude']].values.reshape(-1,2))\n",
        "train['dropoff_cluster']=kmeans.predict(train[['dropoff_latitude','dropoff_longitude']].values.reshape(-1,2))\n",
        "test['pickup_cluster']=kmeans.predict(test[['pickup_latitude','pickup_longitude']].values.reshape(-1,2))\n",
        "test['dropoff_cluster']=kmeans.predict(test[['dropoff_latitude','dropoff_longitude']].values.reshape(-1,2))\n"
      ],
      "execution_count": null,
      "outputs": []
    },
    {
      "cell_type": "code",
      "metadata": {
        "id": "_ES1U-9kHyg5",
        "colab_type": "code",
        "colab": {
          "base_uri": "https://localhost:8080/",
          "height": 269
        },
        "outputId": "3d698028-78b6-4e64-f7d1-6ba3dbd62049"
      },
      "source": [
        "print(train.head(),test.head())"
      ],
      "execution_count": null,
      "outputs": [
        {
          "output_type": "stream",
          "text": [
            "          id  vendor_id  ... pickup_cluster dropoff_cluster\n",
            "0  id2875421          2  ...             60               1\n",
            "1  id2377394          1  ...             62              12\n",
            "2  id3858529          2  ...             90              45\n",
            "3  id3504673          2  ...              0              25\n",
            "4  id2181028          2  ...             54              14\n",
            "\n",
            "[5 rows x 17 columns]           id  vendor_id  ... pickup_cluster  dropoff_cluster\n",
            "0  id3004672          1  ...             40               33\n",
            "1  id3505355          1  ...             20               87\n",
            "2  id1217141          1  ...             58                7\n",
            "3  id2150126          2  ...             64                7\n",
            "4  id1598245          1  ...             67               79\n",
            "\n",
            "[5 rows x 15 columns]\n"
          ],
          "name": "stdout"
        }
      ]
    },
    {
      "cell_type": "code",
      "metadata": {
        "id": "RxjAbGaXH0Qt",
        "colab_type": "code",
        "colab": {}
      },
      "source": [
        "def haversine_array(lat1, lng1, lat2, lng2):\n",
        "    lat1, lng1, lat2, lng2 = map(np.radians, (lat1, lng1, lat2, lng2))\n",
        "    AVG_EARTH_RADIUS = 6371  # in km\n",
        "    lat = lat2 - lat1\n",
        "    lng = lng2 - lng1\n",
        "    d = np.sin(lat * 0.5) ** 2 + np.cos(lat1) * np.cos(lat2) * np.sin(lng * 0.5) ** 2\n",
        "    h = 2 * AVG_EARTH_RADIUS * np.arcsin(np.sqrt(d))\n",
        "    return h\n",
        "def dummy_manhattan_distance(lat1, lng1, lat2, lng2):\n",
        "    a = haversine_array(lat1, lng1, lat1, lng2)\n",
        "    b = haversine_array(lat1, lng1, lat2, lng1)\n",
        "    return a + b\n",
        "def ft_degree(lat1, lng1, lat2, lng2):\n",
        "    AVG_EARTH_RADIUS = 6371 #km\n",
        "    lng_delta_rad = np.radians(lng2 - lng1)\n",
        "    lat1, lng1, lat2, lng2 = map(np.radians, (lat1, lng1, lat2, lng2))\n",
        "    y = np.sin(lng_delta_rad) * np.cos(lat2)\n",
        "    x = np.cos(lat1) * np.sin(lat2) - np.sin(lat1) * np.cos(lat2) * np.cos(lng_delta_rad)\n",
        "    return np.degrees(np.arctan2(y, x))"
      ],
      "execution_count": null,
      "outputs": []
    },
    {
      "cell_type": "code",
      "metadata": {
        "id": "dqrrCYb5H5P5",
        "colab_type": "code",
        "colab": {}
      },
      "source": [
        "train['manhattan_distance']=dummy_manhattan_distance(train['pickup_latitude'],train['pickup_longitude'],train['dropoff_latitude'],train['dropoff_longitude'])\n",
        "test['manhattan_distance']=dummy_manhattan_distance(test['pickup_latitude'],test['pickup_longitude'],test['dropoff_latitude'],test['dropoff_longitude'])\n"
      ],
      "execution_count": null,
      "outputs": []
    },
    {
      "cell_type": "code",
      "metadata": {
        "id": "CsYPi71bnaMD",
        "colab_type": "code",
        "colab": {
          "base_uri": "https://localhost:8080/",
          "height": 101
        },
        "outputId": "2068de8e-6030-4daa-c3cf-88abb8993572"
      },
      "source": [
        "train['direction']=ft_degree(train['pickup_latitude'],train['pickup_longitude'],train['dropoff_latitude'],train['dropoff_longitude'])\n",
        "test['direction']=ft_degree(test['pickup_latitude'],test['pickup_longitude'],test['dropoff_latitude'],test['dropoff_longitude'])\n",
        "test['direction'][:4]"
      ],
      "execution_count": null,
      "outputs": [
        {
          "output_type": "execute_result",
          "data": {
            "text/plain": [
              "0     -3.595224\n",
              "1    172.278835\n",
              "2    133.326248\n",
              "3   -150.956833\n",
              "Name: direction, dtype: float64"
            ]
          },
          "metadata": {
            "tags": []
          },
          "execution_count": 48
        }
      ]
    },
    {
      "cell_type": "code",
      "metadata": {
        "id": "qCWkGJ3HH7D3",
        "colab_type": "code",
        "colab": {
          "base_uri": "https://localhost:8080/",
          "height": 269
        },
        "outputId": "87cd9a15-084f-4451-ab3c-bafc5ebd6fdc"
      },
      "source": [
        "train['traffic_speed']=(train['manhattan_distance']/train['trip_duration'])*1000\n",
        "print(train.head(),test.head())"
      ],
      "execution_count": null,
      "outputs": [
        {
          "output_type": "stream",
          "text": [
            "          id  vendor_id  ...   direction traffic_speed\n",
            "0  id2875421          2  ...   99.970196      3.814139\n",
            "1  id2377394          1  ... -117.153768      3.665922\n",
            "2  id3858529          2  ... -159.680165      3.862323\n",
            "3  id3504673          2  ... -172.737700      3.872567\n",
            "4  id2181028          2  ...  179.473585      2.757372\n",
            "\n",
            "[5 rows x 20 columns]           id  vendor_id  ... manhattan_distance   direction\n",
            "0  id3004672          1  ...           2.913304   -3.595224\n",
            "1  id3505355          1  ...           3.104805  172.278835\n",
            "2  id1217141          1  ...           1.846340  133.326248\n",
            "3  id2150126          2  ...           7.163347 -150.956833\n",
            "4  id1598245          1  ...           1.354164  130.260381\n",
            "\n",
            "[5 rows x 17 columns]\n"
          ],
          "name": "stdout"
        }
      ]
    },
    {
      "cell_type": "code",
      "metadata": {
        "id": "PCJnhdyVH9Al",
        "colab_type": "code",
        "colab": {}
      },
      "source": [
        "# plt.figure(figsize=(15,15))\n",
        "# fig, ax = plt.subplots(ncols=3, nrows=1)\n",
        "# temp=train.groupby(['pick_day'])['traffic_speed'].mean();\n",
        "# ax[0].plot(temp.index,temp.values,'-o')\n",
        "# ax[0].set_xlabel('Speed By Day Of Week')\n",
        "# temp=train.groupby(['pick_month'])['traffic_speed'].mean();\n",
        "# ax[1].plot(temp.index,temp.values,'-o',color='red')\n",
        "# ax[1].set_xlabel('Speed By Month')\n",
        "# temp=train.groupby(['pick_hour'])['traffic_speed'].mean();\n",
        "# ax[2].plot(temp.index,temp.values,'-o',color='purple',lw=2, alpha=0.7)\n",
        "# ax[2].set_xlabel('Speed By Hour Of Day')\n"
      ],
      "execution_count": null,
      "outputs": []
    },
    {
      "cell_type": "code",
      "metadata": {
        "id": "q6tBJ3llH-uM",
        "colab_type": "code",
        "colab": {
          "base_uri": "https://localhost:8080/",
          "height": 34
        },
        "outputId": "4cf56c0f-aaf8-4681-bdd6-cabfd3584e63"
      },
      "source": [
        "train.shape"
      ],
      "execution_count": null,
      "outputs": [
        {
          "output_type": "execute_result",
          "data": {
            "text/plain": [
              "(1439179, 20)"
            ]
          },
          "metadata": {
            "tags": []
          },
          "execution_count": 51
        }
      ]
    },
    {
      "cell_type": "code",
      "metadata": {
        "id": "_FX3eZ7mIAdz",
        "colab_type": "code",
        "colab": {}
      },
      "source": [
        "vendor_id=pd.get_dummies(train['vendor_id'],prefix='vendor_id')\n",
        "passenger_count=pd.get_dummies(train['passenger_count'],prefix='passenger_count')\n",
        "store_and_fwd_flag=pd.get_dummies(train['store_and_fwd_flag'],prefix='store_and_fwd_flag')\n",
        "pick_month=pd.get_dummies(train['pick_month'],prefix='pick_month')\n",
        "pick_hour=pd.get_dummies(train['pick_hour'],prefix='pick_hour')\n",
        "pick_day=pd.get_dummies(train['pick_day'],prefix='pick_day')\n",
        "pickup_cluster=pd.get_dummies(train['pickup_cluster'],prefix='pickup_cluster')\n",
        "dropoff_cluster=pd.get_dummies(train['dropoff_cluster'],prefix='dropoff_cluster')\n",
        "\n",
        "\n",
        "vendor_id1=pd.get_dummies(test['vendor_id'],prefix='vendor_id')\n",
        "passenger_count1=pd.get_dummies(test['passenger_count'],prefix='passenger_count')\n",
        "store_and_fwd_flag1=pd.get_dummies(test['store_and_fwd_flag'],prefix='store_and_fwd_flag')\n",
        "pick_month1=pd.get_dummies(test['pick_month'],prefix='pick_month')\n",
        "pick_hour1=pd.get_dummies(test['pick_hour'],prefix='pick_hour')\n",
        "pick_day1=pd.get_dummies(test['pick_day'],prefix='pick_day')\n",
        "pickup_cluster1=pd.get_dummies(test['pickup_cluster'],prefix='pickup_cluster')\n",
        "dropoff_cluster1=pd.get_dummies(test['dropoff_cluster'],prefix='dropoff_cluster')\n"
      ],
      "execution_count": null,
      "outputs": []
    },
    {
      "cell_type": "code",
      "metadata": {
        "id": "RUOm18_DIB-G",
        "colab_type": "code",
        "colab": {
          "base_uri": "https://localhost:8080/",
          "height": 34
        },
        "outputId": "4b9b9f20-1823-43c7-d841-7dd100466295"
      },
      "source": [
        "vendor_id.shape,vendor_id1.shape\n",
        "#vendor_id"
      ],
      "execution_count": null,
      "outputs": [
        {
          "output_type": "execute_result",
          "data": {
            "text/plain": [
              "((1439179, 2), (625134, 2))"
            ]
          },
          "metadata": {
            "tags": []
          },
          "execution_count": 53
        }
      ]
    },
    {
      "cell_type": "code",
      "metadata": {
        "id": "2E6lyjRCIDct",
        "colab_type": "code",
        "colab": {
          "base_uri": "https://localhost:8080/",
          "height": 34
        },
        "outputId": "c0ee3833-161a-4e85-baa0-7a8d90197b63"
      },
      "source": [
        "passenger_count1.drop(['passenger_count_9'],axis=1,inplace=True)\n",
        "passenger_count.shape,passenger_count1.shape"
      ],
      "execution_count": null,
      "outputs": [
        {
          "output_type": "execute_result",
          "data": {
            "text/plain": [
              "((1439179, 7), (625134, 7))"
            ]
          },
          "metadata": {
            "tags": []
          },
          "execution_count": 54
        }
      ]
    },
    {
      "cell_type": "code",
      "metadata": {
        "id": "fqxUXhTvIE58",
        "colab_type": "code",
        "colab": {
          "base_uri": "https://localhost:8080/",
          "height": 34
        },
        "outputId": "95b023d1-3715-4164-a17c-721f623db88d"
      },
      "source": [
        "store_and_fwd_flag.shape,store_and_fwd_flag1.shape"
      ],
      "execution_count": null,
      "outputs": [
        {
          "output_type": "execute_result",
          "data": {
            "text/plain": [
              "((1439179, 2), (625134, 2))"
            ]
          },
          "metadata": {
            "tags": []
          },
          "execution_count": 55
        }
      ]
    },
    {
      "cell_type": "code",
      "metadata": {
        "id": "VmuTS7djIHOI",
        "colab_type": "code",
        "colab": {
          "base_uri": "https://localhost:8080/",
          "height": 34
        },
        "outputId": "1c88aba8-9025-4492-8aa2-1ed6ce22db17"
      },
      "source": [
        "pick_month.shape,pick_month1.shape"
      ],
      "execution_count": null,
      "outputs": [
        {
          "output_type": "execute_result",
          "data": {
            "text/plain": [
              "((1439179, 6), (625134, 6))"
            ]
          },
          "metadata": {
            "tags": []
          },
          "execution_count": 56
        }
      ]
    },
    {
      "cell_type": "code",
      "metadata": {
        "id": "JHqwkiWOIMr_",
        "colab_type": "code",
        "colab": {
          "base_uri": "https://localhost:8080/",
          "height": 34
        },
        "outputId": "df6e1d76-09c5-4492-8e1e-f6bcab213421"
      },
      "source": [
        "pick_hour.shape,pick_hour1.shape"
      ],
      "execution_count": null,
      "outputs": [
        {
          "output_type": "execute_result",
          "data": {
            "text/plain": [
              "((1439179, 24), (625134, 24))"
            ]
          },
          "metadata": {
            "tags": []
          },
          "execution_count": 57
        }
      ]
    },
    {
      "cell_type": "code",
      "metadata": {
        "id": "4Ea2uTuzIOKK",
        "colab_type": "code",
        "colab": {
          "base_uri": "https://localhost:8080/",
          "height": 34
        },
        "outputId": "dd5c9a5e-7358-4555-8b60-3e1f47ffb20a"
      },
      "source": [
        "pick_day.shape,pick_day1.shape"
      ],
      "execution_count": null,
      "outputs": [
        {
          "output_type": "execute_result",
          "data": {
            "text/plain": [
              "((1439179, 7), (625134, 7))"
            ]
          },
          "metadata": {
            "tags": []
          },
          "execution_count": 58
        }
      ]
    },
    {
      "cell_type": "code",
      "metadata": {
        "id": "urxqSUHpIPh2",
        "colab_type": "code",
        "colab": {
          "base_uri": "https://localhost:8080/",
          "height": 34
        },
        "outputId": "4badcbf3-b9e9-4e1b-d418-cc573a2a94c3"
      },
      "source": [
        "pickup_cluster.shape,pickup_cluster1.shape"
      ],
      "execution_count": null,
      "outputs": [
        {
          "output_type": "execute_result",
          "data": {
            "text/plain": [
              "((1439179, 100), (625134, 100))"
            ]
          },
          "metadata": {
            "tags": []
          },
          "execution_count": 59
        }
      ]
    },
    {
      "cell_type": "code",
      "metadata": {
        "id": "HfIFm---RX7-",
        "colab_type": "code",
        "colab": {
          "base_uri": "https://localhost:8080/",
          "height": 34
        },
        "outputId": "6c86ac77-1cba-490f-b19d-f5a9cbf99046"
      },
      "source": [
        "dropoff_cluster.shape,dropoff_cluster1.shape"
      ],
      "execution_count": null,
      "outputs": [
        {
          "output_type": "execute_result",
          "data": {
            "text/plain": [
              "((1439179, 100), (625134, 100))"
            ]
          },
          "metadata": {
            "tags": []
          },
          "execution_count": 60
        }
      ]
    },
    {
      "cell_type": "code",
      "metadata": {
        "id": "1kr-Pe5tIRIq",
        "colab_type": "code",
        "colab": {
          "base_uri": "https://localhost:8080/",
          "height": 134
        },
        "outputId": "2b0a495e-00b7-4836-c647-30414ca5071b"
      },
      "source": [
        "train.columns"
      ],
      "execution_count": null,
      "outputs": [
        {
          "output_type": "execute_result",
          "data": {
            "text/plain": [
              "Index(['id', 'vendor_id', 'pickup_datetime', 'dropoff_datetime',\n",
              "       'passenger_count', 'pickup_longitude', 'pickup_latitude',\n",
              "       'dropoff_longitude', 'dropoff_latitude', 'store_and_fwd_flag',\n",
              "       'trip_duration', 'pick_date', 'pick_month', 'pick_hour', 'pick_day',\n",
              "       'pickup_cluster', 'dropoff_cluster', 'manhattan_distance', 'direction',\n",
              "       'traffic_speed'],\n",
              "      dtype='object')"
            ]
          },
          "metadata": {
            "tags": []
          },
          "execution_count": 61
        }
      ]
    },
    {
      "cell_type": "code",
      "metadata": {
        "id": "QTJ4-8fNISl4",
        "colab_type": "code",
        "colab": {}
      },
      "source": [
        "train.drop(['vendor_id','pickup_datetime','dropoff_datetime','passenger_count','store_and_fwd_flag',\n",
        "            'pick_month', 'pick_hour', 'pick_day','pickup_cluster','pick_date','traffic_speed','dropoff_cluster'],axis=1,inplace=True)\n",
        "test.drop(['vendor_id','pickup_datetime','passenger_count','store_and_fwd_flag',\n",
        "            'pick_month', 'pick_hour', 'pick_day','pickup_cluster','pick_date','dropoff_cluster'],axis=1,inplace=True)\n"
      ],
      "execution_count": null,
      "outputs": []
    },
    {
      "cell_type": "code",
      "metadata": {
        "id": "s2YmAsqxIUSY",
        "colab_type": "code",
        "colab": {
          "base_uri": "https://localhost:8080/",
          "height": 118
        },
        "outputId": "5c93e006-aa6e-411d-c4e9-7195083916df"
      },
      "source": [
        "train.columns,test.columns"
      ],
      "execution_count": null,
      "outputs": [
        {
          "output_type": "execute_result",
          "data": {
            "text/plain": [
              "(Index(['id', 'pickup_longitude', 'pickup_latitude', 'dropoff_longitude',\n",
              "        'dropoff_latitude', 'trip_duration', 'manhattan_distance', 'direction'],\n",
              "       dtype='object'),\n",
              " Index(['id', 'pickup_longitude', 'pickup_latitude', 'dropoff_longitude',\n",
              "        'dropoff_latitude', 'manhattan_distance', 'direction'],\n",
              "       dtype='object'))"
            ]
          },
          "metadata": {
            "tags": []
          },
          "execution_count": 63
        }
      ]
    },
    {
      "cell_type": "code",
      "metadata": {
        "id": "WfOti-EhIWav",
        "colab_type": "code",
        "colab": {}
      },
      "source": [
        "train.drop(['id'],inplace=True,axis=1)\n",
        "test.drop(['id'],inplace=True,axis=1)"
      ],
      "execution_count": null,
      "outputs": []
    },
    {
      "cell_type": "code",
      "metadata": {
        "id": "rVCDZSe0IX0Q",
        "colab_type": "code",
        "colab": {
          "base_uri": "https://localhost:8080/",
          "height": 286
        },
        "outputId": "e0b229f1-8309-4884-d418-9098d58b3a54"
      },
      "source": [
        "train.head(),test.head()"
      ],
      "execution_count": null,
      "outputs": [
        {
          "output_type": "execute_result",
          "data": {
            "text/plain": [
              "(   pickup_longitude  pickup_latitude  ...  manhattan_distance   direction\n",
              " 0        -73.982155        40.767937  ...            1.735433   99.970196\n",
              " 1        -73.980415        40.738564  ...            2.430506 -117.153768\n",
              " 2        -73.979027        40.763939  ...            8.203575 -159.680165\n",
              " 3        -74.010040        40.719971  ...            1.661331 -172.737700\n",
              " 4        -73.973053        40.793209  ...            1.199457  179.473585\n",
              " \n",
              " [5 rows x 7 columns],\n",
              "    pickup_longitude  pickup_latitude  ...  manhattan_distance   direction\n",
              " 0        -73.988129        40.732029  ...            2.913304   -3.595224\n",
              " 1        -73.964203        40.679993  ...            3.104805  172.278835\n",
              " 2        -73.997437        40.737583  ...            1.846340  133.326248\n",
              " 3        -73.956070        40.771900  ...            7.163347 -150.956833\n",
              " 4        -73.970215        40.761475  ...            1.354164  130.260381\n",
              " \n",
              " [5 rows x 6 columns])"
            ]
          },
          "metadata": {
            "tags": []
          },
          "execution_count": 65
        }
      ]
    },
    {
      "cell_type": "code",
      "metadata": {
        "id": "zNi2O0sKIZxb",
        "colab_type": "code",
        "colab": {}
      },
      "source": [
        "merge1=train.merge(vendor_id,how='left',left_index=True,right_index=True)\n",
        "merge2=test.merge(vendor_id1,how='left',left_index=True,right_index=True)\n"
      ],
      "execution_count": null,
      "outputs": []
    },
    {
      "cell_type": "code",
      "metadata": {
        "id": "y_uxTAU6IbbT",
        "colab_type": "code",
        "colab": {}
      },
      "source": [
        "merge1=merge1.merge(passenger_count,how='left',left_index=True,right_index=True)\n",
        "merge2=merge2.merge(passenger_count1,how='left',left_index=True,right_index=True)\n"
      ],
      "execution_count": null,
      "outputs": []
    },
    {
      "cell_type": "code",
      "metadata": {
        "id": "FuYZRrIOIdGp",
        "colab_type": "code",
        "colab": {}
      },
      "source": [
        "merge1=merge1.merge(pick_month,how='left',left_index=True,right_index=True)\n",
        "merge2=merge2.merge(pick_month1,how='left',left_index=True,right_index=True)\n"
      ],
      "execution_count": null,
      "outputs": []
    },
    {
      "cell_type": "code",
      "metadata": {
        "id": "hbFw32g2Iesx",
        "colab_type": "code",
        "colab": {
          "base_uri": "https://localhost:8080/",
          "height": 269
        },
        "outputId": "a3eac3b1-7ba5-4155-e962-74e4e9e90c75"
      },
      "source": [
        "merge1=merge1.merge(pick_hour,how='left',left_index=True,right_index=True)\n",
        "merge2=merge2.merge(pick_hour1,how='left',left_index=True,right_index=True)\n",
        "print(merge1.head(),merge2.head())"
      ],
      "execution_count": null,
      "outputs": [
        {
          "output_type": "stream",
          "text": [
            "   pickup_longitude  pickup_latitude  ...  pick_hour_22  pick_hour_23\n",
            "0        -73.982155        40.767937  ...             0             0\n",
            "1        -73.980415        40.738564  ...             0             0\n",
            "2        -73.979027        40.763939  ...             0             0\n",
            "3        -74.010040        40.719971  ...             0             0\n",
            "4        -73.973053        40.793209  ...             0             0\n",
            "\n",
            "[5 rows x 46 columns]    pickup_longitude  pickup_latitude  ...  pick_hour_22  pick_hour_23\n",
            "0        -73.988129        40.732029  ...             0             1\n",
            "1        -73.964203        40.679993  ...             0             1\n",
            "2        -73.997437        40.737583  ...             0             1\n",
            "3        -73.956070        40.771900  ...             0             1\n",
            "4        -73.970215        40.761475  ...             0             1\n",
            "\n",
            "[5 rows x 45 columns]\n"
          ],
          "name": "stdout"
        }
      ]
    },
    {
      "cell_type": "code",
      "metadata": {
        "id": "CL-oSZbYIgze",
        "colab_type": "code",
        "colab": {
          "base_uri": "https://localhost:8080/",
          "height": 504
        },
        "outputId": "4e7123c5-1218-4602-8202-2030ddc80075"
      },
      "source": [
        "merge1=merge1.merge(pick_day,how='left',left_index=True,right_index=True)\n",
        "merge2=merge2.merge(pick_day1,how='left',left_index=True,right_index=True)\n",
        "print(merge1.columns,merge2.columns)"
      ],
      "execution_count": null,
      "outputs": [
        {
          "output_type": "stream",
          "text": [
            "Index(['pickup_longitude', 'pickup_latitude', 'dropoff_longitude',\n",
            "       'dropoff_latitude', 'trip_duration', 'manhattan_distance', 'direction',\n",
            "       'vendor_id_1', 'vendor_id_2', 'passenger_count_0', 'passenger_count_1',\n",
            "       'passenger_count_2', 'passenger_count_3', 'passenger_count_4',\n",
            "       'passenger_count_5', 'passenger_count_6', 'pick_month_1',\n",
            "       'pick_month_2', 'pick_month_3', 'pick_month_4', 'pick_month_5',\n",
            "       'pick_month_6', 'pick_hour_0', 'pick_hour_1', 'pick_hour_2',\n",
            "       'pick_hour_3', 'pick_hour_4', 'pick_hour_5', 'pick_hour_6',\n",
            "       'pick_hour_7', 'pick_hour_8', 'pick_hour_9', 'pick_hour_10',\n",
            "       'pick_hour_11', 'pick_hour_12', 'pick_hour_13', 'pick_hour_14',\n",
            "       'pick_hour_15', 'pick_hour_16', 'pick_hour_17', 'pick_hour_18',\n",
            "       'pick_hour_19', 'pick_hour_20', 'pick_hour_21', 'pick_hour_22',\n",
            "       'pick_hour_23', 'pick_day_0', 'pick_day_1', 'pick_day_2', 'pick_day_3',\n",
            "       'pick_day_4', 'pick_day_5', 'pick_day_6'],\n",
            "      dtype='object') Index(['pickup_longitude', 'pickup_latitude', 'dropoff_longitude',\n",
            "       'dropoff_latitude', 'manhattan_distance', 'direction', 'vendor_id_1',\n",
            "       'vendor_id_2', 'passenger_count_0', 'passenger_count_1',\n",
            "       'passenger_count_2', 'passenger_count_3', 'passenger_count_4',\n",
            "       'passenger_count_5', 'passenger_count_6', 'pick_month_1',\n",
            "       'pick_month_2', 'pick_month_3', 'pick_month_4', 'pick_month_5',\n",
            "       'pick_month_6', 'pick_hour_0', 'pick_hour_1', 'pick_hour_2',\n",
            "       'pick_hour_3', 'pick_hour_4', 'pick_hour_5', 'pick_hour_6',\n",
            "       'pick_hour_7', 'pick_hour_8', 'pick_hour_9', 'pick_hour_10',\n",
            "       'pick_hour_11', 'pick_hour_12', 'pick_hour_13', 'pick_hour_14',\n",
            "       'pick_hour_15', 'pick_hour_16', 'pick_hour_17', 'pick_hour_18',\n",
            "       'pick_hour_19', 'pick_hour_20', 'pick_hour_21', 'pick_hour_22',\n",
            "       'pick_hour_23', 'pick_day_0', 'pick_day_1', 'pick_day_2', 'pick_day_3',\n",
            "       'pick_day_4', 'pick_day_5', 'pick_day_6'],\n",
            "      dtype='object')\n"
          ],
          "name": "stdout"
        }
      ]
    },
    {
      "cell_type": "code",
      "metadata": {
        "id": "G_CW-cwbIioS",
        "colab_type": "code",
        "colab": {}
      },
      "source": [
        "merge1=merge1.merge(pickup_cluster,how='left',left_index=True,right_index=True)\n",
        "merge2=merge2.merge(pickup_cluster1,how='left',left_index=True,right_index=True)\n"
      ],
      "execution_count": null,
      "outputs": []
    },
    {
      "cell_type": "code",
      "metadata": {
        "id": "40DQYUJNBD-y",
        "colab_type": "code",
        "colab": {}
      },
      "source": [
        "merge1=merge1.merge(dropoff_cluster,how='left',left_index=True,right_index=True)\n",
        "merge2=merge2.merge(dropoff_cluster1,how='left',left_index=True,right_index=True)"
      ],
      "execution_count": null,
      "outputs": []
    },
    {
      "cell_type": "code",
      "metadata": {
        "id": "zPDtXgCKIlDl",
        "colab_type": "code",
        "colab": {
          "base_uri": "https://localhost:8080/",
          "height": 34
        },
        "outputId": "8a4837a2-b019-48ba-ffd7-24c18b85b364"
      },
      "source": [
        "merge1.shape,merge2.shape"
      ],
      "execution_count": null,
      "outputs": [
        {
          "output_type": "execute_result",
          "data": {
            "text/plain": [
              "((1439179, 253), (625134, 252))"
            ]
          },
          "metadata": {
            "tags": []
          },
          "execution_count": 73
        }
      ]
    },
    {
      "cell_type": "code",
      "metadata": {
        "id": "6wNEULLtInDl",
        "colab_type": "code",
        "colab": {}
      },
      "source": [
        "X=merge1.drop(['trip_duration'],axis=1)[:1100000]"
      ],
      "execution_count": null,
      "outputs": []
    },
    {
      "cell_type": "code",
      "metadata": {
        "id": "ciiwlPqpIoeN",
        "colab_type": "code",
        "colab": {}
      },
      "source": [
        "y=np.log(merge1['trip_duration'])[:1100000]"
      ],
      "execution_count": null,
      "outputs": []
    },
    {
      "cell_type": "code",
      "metadata": {
        "id": "0qVORO44Ipr2",
        "colab_type": "code",
        "colab": {}
      },
      "source": [
        "df1,df2,y_train,y_test=train_test_split(X,y,test_size=0.25)"
      ],
      "execution_count": null,
      "outputs": []
    },
    {
      "cell_type": "code",
      "metadata": {
        "id": "WAQTAZJiIraU",
        "colab_type": "code",
        "colab": {
          "base_uri": "https://localhost:8080/",
          "height": 34
        },
        "outputId": "d56ad339-76e7-441d-a88b-5da681b208b7"
      },
      "source": [
        "df1.shape,df2.shape"
      ],
      "execution_count": null,
      "outputs": [
        {
          "output_type": "execute_result",
          "data": {
            "text/plain": [
              "((825000, 252), (275000, 252))"
            ]
          },
          "metadata": {
            "tags": []
          },
          "execution_count": 77
        }
      ]
    },
    {
      "cell_type": "code",
      "metadata": {
        "id": "ARZAQS0VBapV",
        "colab_type": "code",
        "colab": {
          "base_uri": "https://localhost:8080/",
          "height": 168
        },
        "outputId": "f95d6b3c-5cb8-4506-b074-63ccb486471d"
      },
      "source": [
        "print(merge1.columns)"
      ],
      "execution_count": null,
      "outputs": [
        {
          "output_type": "stream",
          "text": [
            "Index(['pickup_longitude', 'pickup_latitude', 'dropoff_longitude',\n",
            "       'dropoff_latitude', 'trip_duration', 'manhattan_distance', 'direction',\n",
            "       'vendor_id_1', 'vendor_id_2', 'passenger_count_0',\n",
            "       ...\n",
            "       'dropoff_cluster_90', 'dropoff_cluster_91', 'dropoff_cluster_92',\n",
            "       'dropoff_cluster_93', 'dropoff_cluster_94', 'dropoff_cluster_95',\n",
            "       'dropoff_cluster_96', 'dropoff_cluster_97', 'dropoff_cluster_98',\n",
            "       'dropoff_cluster_99'],\n",
            "      dtype='object', length=253)\n"
          ],
          "name": "stdout"
        }
      ]
    },
    {
      "cell_type": "code",
      "metadata": {
        "id": "VwR-1VwAItf0",
        "colab_type": "code",
        "colab": {}
      },
      "source": [
        "xgb_pars = {'min_child_weight': 100, 'eta': 0.3, 'colsample_bytree': 0.3, 'max_depth': 10,\n",
        "            'subsample': 0.8, 'lambda': 1., 'nthread': -1, 'booster' : 'gbtree', 'silent': 1,\n",
        "            'eval_metric': 'rmse', 'objective': 'reg:linear'}"
      ],
      "execution_count": null,
      "outputs": []
    },
    {
      "cell_type": "code",
      "metadata": {
        "id": "lu76WNrcI1qC",
        "colab_type": "code",
        "colab": {
          "base_uri": "https://localhost:8080/",
          "height": 34
        },
        "outputId": "478b1c16-a5b9-407b-e9b5-d743c39fd9ef"
      },
      "source": [
        "dtrain = xgb.DMatrix(X, label=y)\n",
        "dtrain"
      ],
      "execution_count": null,
      "outputs": [
        {
          "output_type": "execute_result",
          "data": {
            "text/plain": [
              "<xgboost.core.DMatrix at 0x7fa7e3466978>"
            ]
          },
          "metadata": {
            "tags": []
          },
          "execution_count": 80
        }
      ]
    },
    {
      "cell_type": "code",
      "metadata": {
        "id": "rF1NpqXhMnM5",
        "colab_type": "code",
        "colab": {
          "base_uri": "https://localhost:8080/",
          "height": 252
        },
        "outputId": "e84dbd47-4e1f-4367-ab01-d682ebd8c620"
      },
      "source": [
        "dtrain = xgb.DMatrix(df1, label=y_train)\n",
        "dvalid = xgb.DMatrix(df2, label=y_test)\n",
        "watchlist = [(dtrain, 'train'), (dvalid, 'valid')]\n",
        "xgb_pars = {'min_child_weight': 1, 'eta': 0.5, 'colsample_bytree': 0.9, \n",
        "            'max_depth': 6,\n",
        "'subsample': 0.9, 'lambda': 1., 'nthread': -1, 'booster' : 'gbtree', 'silent': 1,\n",
        "'eval_metric': 'rmse', 'objective': 'reg:linear'}\n",
        "model = xgb.train(xgb_pars, dtrain, 10, watchlist, early_stopping_rounds=4,\n",
        "      maximize=False, verbose_eval=1)\n",
        "print('Modeling RMSLE %.5f' % model.best_score)"
      ],
      "execution_count": null,
      "outputs": [
        {
          "output_type": "stream",
          "text": [
            "[0]\ttrain-rmse:3.03398\tvalid-rmse:3.03295\n",
            "Multiple eval metrics have been passed: 'valid-rmse' will be used for early stopping.\n",
            "\n",
            "Will train until valid-rmse hasn't improved in 4 rounds.\n",
            "[1]\ttrain-rmse:1.57482\tvalid-rmse:1.57335\n",
            "[2]\ttrain-rmse:0.888469\tvalid-rmse:0.886439\n",
            "[3]\ttrain-rmse:0.603126\tvalid-rmse:0.600604\n",
            "[4]\ttrain-rmse:0.503637\tvalid-rmse:0.50094\n",
            "[5]\ttrain-rmse:0.471449\tvalid-rmse:0.468879\n",
            "[6]\ttrain-rmse:0.453451\tvalid-rmse:0.451017\n",
            "[7]\ttrain-rmse:0.446992\tvalid-rmse:0.444818\n",
            "[8]\ttrain-rmse:0.442847\tvalid-rmse:0.440939\n",
            "[9]\ttrain-rmse:0.437332\tvalid-rmse:0.435441\n",
            "Modeling RMSLE 0.43544\n"
          ],
          "name": "stdout"
        }
      ]
    },
    {
      "cell_type": "code",
      "metadata": {
        "id": "qRNklnN_M6_c",
        "colab_type": "code",
        "colab": {}
      },
      "source": [
        "temp=xgb.DMatrix(merge2)\n",
        "predict=model.predict(temp)"
      ],
      "execution_count": null,
      "outputs": []
    },
    {
      "cell_type": "code",
      "metadata": {
        "id": "Xs6-dPkJELvg",
        "colab_type": "code",
        "colab": {
          "base_uri": "https://localhost:8080/",
          "height": 312
        },
        "outputId": "4ce29cf2-390d-4d75-ea2d-42fc8d116941"
      },
      "source": [
        "xgb.plot_importance(model, max_num_features=28, height=0.7)"
      ],
      "execution_count": null,
      "outputs": [
        {
          "output_type": "execute_result",
          "data": {
            "text/plain": [
              "<matplotlib.axes._subplots.AxesSubplot at 0x7fa7d7151b00>"
            ]
          },
          "metadata": {
            "tags": []
          },
          "execution_count": 83
        },
        {
          "output_type": "display_data",
          "data": {
            "image/png": "[encoded data removed]",
            "text/plain": [
              "<Figure size 432x288 with 1 Axes>"
            ]
          },
          "metadata": {
            "tags": [],
            "needs_background": "light"
          }
        }
      ]
    },
    {
      "cell_type": "code",
      "metadata": {
        "id": "2nKVoJl7Ejtw",
        "colab_type": "code",
        "colab": {}
      },
      "source": [
        "result=pd.read_csv('/content/sample_submission.csv')\n",
        "\n",
        "#submission = pd.concat([Test_id, pd.DataFrame(predict)], axis=1)\n",
        "#submission.columns = ['id','trip_duration']\n",
        "#submission.to_csv(\"sample_submission.csv\", index=False)"
      ],
      "execution_count": null,
      "outputs": []
    },
    {
      "cell_type": "code",
      "metadata": {
        "id": "6FQaxnklE2HP",
        "colab_type": "code",
        "colab": {}
      },
      "source": [
        "ans=pd.DataFrame(np.exp(predict))\n",
        "result=result.merge(ans,how='left',left_index=True,right_index=True)"
      ],
      "execution_count": null,
      "outputs": []
    },
    {
      "cell_type": "code",
      "metadata": {
        "id": "p8oRBSGRFaKu",
        "colab_type": "code",
        "colab": {
          "base_uri": "https://localhost:8080/",
          "height": 402
        },
        "outputId": "5ddff345-6b03-408f-c9ab-f01a98833827"
      },
      "source": [
        "result"
      ],
      "execution_count": null,
      "outputs": [
        {
          "output_type": "execute_result",
          "data": {
            "text/html": [
              "<div>\n",
              "<style scoped>\n",
              "    .dataframe tbody tr th:only-of-type {\n",
              "        vertical-align: middle;\n",
              "    }\n",
              "\n",
              "    .dataframe tbody tr th {\n",
              "        vertical-align: top;\n",
              "    }\n",
              "\n",
              "    .dataframe thead th {\n",
              "        text-align: right;\n",
              "    }\n",
              "</style>\n",
              "<table border=\"1\" class=\"dataframe\">\n",
              "  <thead>\n",
              "    <tr style=\"text-align: right;\">\n",
              "      <th></th>\n",
              "      <th>id</th>\n",
              "      <th>trip_duration</th>\n",
              "      <th>0</th>\n",
              "    </tr>\n",
              "  </thead>\n",
              "  <tbody>\n",
              "    <tr>\n",
              "      <th>0</th>\n",
              "      <td>id3004672</td>\n",
              "      <td>959</td>\n",
              "      <td>761.053467</td>\n",
              "    </tr>\n",
              "    <tr>\n",
              "      <th>1</th>\n",
              "      <td>id3505355</td>\n",
              "      <td>959</td>\n",
              "      <td>762.603577</td>\n",
              "    </tr>\n",
              "    <tr>\n",
              "      <th>2</th>\n",
              "      <td>id1217141</td>\n",
              "      <td>959</td>\n",
              "      <td>470.041534</td>\n",
              "    </tr>\n",
              "    <tr>\n",
              "      <th>3</th>\n",
              "      <td>id2150126</td>\n",
              "      <td>959</td>\n",
              "      <td>1154.330933</td>\n",
              "    </tr>\n",
              "    <tr>\n",
              "      <th>4</th>\n",
              "      <td>id1598245</td>\n",
              "      <td>959</td>\n",
              "      <td>422.251007</td>\n",
              "    </tr>\n",
              "    <tr>\n",
              "      <th>...</th>\n",
              "      <td>...</td>\n",
              "      <td>...</td>\n",
              "      <td>...</td>\n",
              "    </tr>\n",
              "    <tr>\n",
              "      <th>625129</th>\n",
              "      <td>id3008929</td>\n",
              "      <td>959</td>\n",
              "      <td>264.669434</td>\n",
              "    </tr>\n",
              "    <tr>\n",
              "      <th>625130</th>\n",
              "      <td>id3700764</td>\n",
              "      <td>959</td>\n",
              "      <td>1208.925781</td>\n",
              "    </tr>\n",
              "    <tr>\n",
              "      <th>625131</th>\n",
              "      <td>id2568735</td>\n",
              "      <td>959</td>\n",
              "      <td>1465.089233</td>\n",
              "    </tr>\n",
              "    <tr>\n",
              "      <th>625132</th>\n",
              "      <td>id1384355</td>\n",
              "      <td>959</td>\n",
              "      <td>1607.101196</td>\n",
              "    </tr>\n",
              "    <tr>\n",
              "      <th>625133</th>\n",
              "      <td>id0621643</td>\n",
              "      <td>959</td>\n",
              "      <td>1093.963257</td>\n",
              "    </tr>\n",
              "  </tbody>\n",
              "</table>\n",
              "<p>625134 rows × 3 columns</p>\n",
              "</div>"
            ],
            "text/plain": [
              "               id  trip_duration            0\n",
              "0       id3004672            959   761.053467\n",
              "1       id3505355            959   762.603577\n",
              "2       id1217141            959   470.041534\n",
              "3       id2150126            959  1154.330933\n",
              "4       id1598245            959   422.251007\n",
              "...           ...            ...          ...\n",
              "625129  id3008929            959   264.669434\n",
              "625130  id3700764            959  1208.925781\n",
              "625131  id2568735            959  1465.089233\n",
              "625132  id1384355            959  1607.101196\n",
              "625133  id0621643            959  1093.963257\n",
              "\n",
              "[625134 rows x 3 columns]"
            ]
          },
          "metadata": {
            "tags": []
          },
          "execution_count": 86
        }
      ]
    },
    {
      "cell_type": "code",
      "metadata": {
        "id": "ayLiuet7LeEm",
        "colab_type": "code",
        "colab": {}
      },
      "source": [
        "result.drop(['trip_duration'],axis=1,inplace=True)"
      ],
      "execution_count": null,
      "outputs": []
    },
    {
      "cell_type": "code",
      "metadata": {
        "id": "BuRFW4FsLmM-",
        "colab_type": "code",
        "colab": {
          "base_uri": "https://localhost:8080/",
          "height": 402
        },
        "outputId": "d121c918-8bd6-44ff-ca2c-50ce8ed81dde"
      },
      "source": [
        "result"
      ],
      "execution_count": null,
      "outputs": [
        {
          "output_type": "execute_result",
          "data": {
            "text/html": [
              "<div>\n",
              "<style scoped>\n",
              "    .dataframe tbody tr th:only-of-type {\n",
              "        vertical-align: middle;\n",
              "    }\n",
              "\n",
              "    .dataframe tbody tr th {\n",
              "        vertical-align: top;\n",
              "    }\n",
              "\n",
              "    .dataframe thead th {\n",
              "        text-align: right;\n",
              "    }\n",
              "</style>\n",
              "<table border=\"1\" class=\"dataframe\">\n",
              "  <thead>\n",
              "    <tr style=\"text-align: right;\">\n",
              "      <th></th>\n",
              "      <th>id</th>\n",
              "      <th>0</th>\n",
              "    </tr>\n",
              "  </thead>\n",
              "  <tbody>\n",
              "    <tr>\n",
              "      <th>0</th>\n",
              "      <td>id3004672</td>\n",
              "      <td>761.053467</td>\n",
              "    </tr>\n",
              "    <tr>\n",
              "      <th>1</th>\n",
              "      <td>id3505355</td>\n",
              "      <td>762.603577</td>\n",
              "    </tr>\n",
              "    <tr>\n",
              "      <th>2</th>\n",
              "      <td>id1217141</td>\n",
              "      <td>470.041534</td>\n",
              "    </tr>\n",
              "    <tr>\n",
              "      <th>3</th>\n",
              "      <td>id2150126</td>\n",
              "      <td>1154.330933</td>\n",
              "    </tr>\n",
              "    <tr>\n",
              "      <th>4</th>\n",
              "      <td>id1598245</td>\n",
              "      <td>422.251007</td>\n",
              "    </tr>\n",
              "    <tr>\n",
              "      <th>...</th>\n",
              "      <td>...</td>\n",
              "      <td>...</td>\n",
              "    </tr>\n",
              "    <tr>\n",
              "      <th>625129</th>\n",
              "      <td>id3008929</td>\n",
              "      <td>264.669434</td>\n",
              "    </tr>\n",
              "    <tr>\n",
              "      <th>625130</th>\n",
              "      <td>id3700764</td>\n",
              "      <td>1208.925781</td>\n",
              "    </tr>\n",
              "    <tr>\n",
              "      <th>625131</th>\n",
              "      <td>id2568735</td>\n",
              "      <td>1465.089233</td>\n",
              "    </tr>\n",
              "    <tr>\n",
              "      <th>625132</th>\n",
              "      <td>id1384355</td>\n",
              "      <td>1607.101196</td>\n",
              "    </tr>\n",
              "    <tr>\n",
              "      <th>625133</th>\n",
              "      <td>id0621643</td>\n",
              "      <td>1093.963257</td>\n",
              "    </tr>\n",
              "  </tbody>\n",
              "</table>\n",
              "<p>625134 rows × 2 columns</p>\n",
              "</div>"
            ],
            "text/plain": [
              "               id            0\n",
              "0       id3004672   761.053467\n",
              "1       id3505355   762.603577\n",
              "2       id1217141   470.041534\n",
              "3       id2150126  1154.330933\n",
              "4       id1598245   422.251007\n",
              "...           ...          ...\n",
              "625129  id3008929   264.669434\n",
              "625130  id3700764  1208.925781\n",
              "625131  id2568735  1465.089233\n",
              "625132  id1384355  1607.101196\n",
              "625133  id0621643  1093.963257\n",
              "\n",
              "[625134 rows x 2 columns]"
            ]
          },
          "metadata": {
            "tags": []
          },
          "execution_count": 88
        }
      ]
    },
    {
      "cell_type": "code",
      "metadata": {
        "id": "bzz0M-TdLw-d",
        "colab_type": "code",
        "colab": {}
      },
      "source": [
        "result.columns = ['id','trip_duration']"
      ],
      "execution_count": null,
      "outputs": []
    },
    {
      "cell_type": "code",
      "metadata": {
        "id": "oYWlNrJvL3ID",
        "colab_type": "code",
        "colab": {
          "base_uri": "https://localhost:8080/",
          "height": 402
        },
        "outputId": "e8d02502-d0fe-4e94-fdd7-c99c70f21e04"
      },
      "source": [
        "result"
      ],
      "execution_count": null,
      "outputs": [
        {
          "output_type": "execute_result",
          "data": {
            "text/html": [
              "<div>\n",
              "<style scoped>\n",
              "    .dataframe tbody tr th:only-of-type {\n",
              "        vertical-align: middle;\n",
              "    }\n",
              "\n",
              "    .dataframe tbody tr th {\n",
              "        vertical-align: top;\n",
              "    }\n",
              "\n",
              "    .dataframe thead th {\n",
              "        text-align: right;\n",
              "    }\n",
              "</style>\n",
              "<table border=\"1\" class=\"dataframe\">\n",
              "  <thead>\n",
              "    <tr style=\"text-align: right;\">\n",
              "      <th></th>\n",
              "      <th>id</th>\n",
              "      <th>trip_duration</th>\n",
              "    </tr>\n",
              "  </thead>\n",
              "  <tbody>\n",
              "    <tr>\n",
              "      <th>0</th>\n",
              "      <td>id3004672</td>\n",
              "      <td>761.053467</td>\n",
              "    </tr>\n",
              "    <tr>\n",
              "      <th>1</th>\n",
              "      <td>id3505355</td>\n",
              "      <td>762.603577</td>\n",
              "    </tr>\n",
              "    <tr>\n",
              "      <th>2</th>\n",
              "      <td>id1217141</td>\n",
              "      <td>470.041534</td>\n",
              "    </tr>\n",
              "    <tr>\n",
              "      <th>3</th>\n",
              "      <td>id2150126</td>\n",
              "      <td>1154.330933</td>\n",
              "    </tr>\n",
              "    <tr>\n",
              "      <th>4</th>\n",
              "      <td>id1598245</td>\n",
              "      <td>422.251007</td>\n",
              "    </tr>\n",
              "    <tr>\n",
              "      <th>...</th>\n",
              "      <td>...</td>\n",
              "      <td>...</td>\n",
              "    </tr>\n",
              "    <tr>\n",
              "      <th>625129</th>\n",
              "      <td>id3008929</td>\n",
              "      <td>264.669434</td>\n",
              "    </tr>\n",
              "    <tr>\n",
              "      <th>625130</th>\n",
              "      <td>id3700764</td>\n",
              "      <td>1208.925781</td>\n",
              "    </tr>\n",
              "    <tr>\n",
              "      <th>625131</th>\n",
              "      <td>id2568735</td>\n",
              "      <td>1465.089233</td>\n",
              "    </tr>\n",
              "    <tr>\n",
              "      <th>625132</th>\n",
              "      <td>id1384355</td>\n",
              "      <td>1607.101196</td>\n",
              "    </tr>\n",
              "    <tr>\n",
              "      <th>625133</th>\n",
              "      <td>id0621643</td>\n",
              "      <td>1093.963257</td>\n",
              "    </tr>\n",
              "  </tbody>\n",
              "</table>\n",
              "<p>625134 rows × 2 columns</p>\n",
              "</div>"
            ],
            "text/plain": [
              "               id  trip_duration\n",
              "0       id3004672     761.053467\n",
              "1       id3505355     762.603577\n",
              "2       id1217141     470.041534\n",
              "3       id2150126    1154.330933\n",
              "4       id1598245     422.251007\n",
              "...           ...            ...\n",
              "625129  id3008929     264.669434\n",
              "625130  id3700764    1208.925781\n",
              "625131  id2568735    1465.089233\n",
              "625132  id1384355    1607.101196\n",
              "625133  id0621643    1093.963257\n",
              "\n",
              "[625134 rows x 2 columns]"
            ]
          },
          "metadata": {
            "tags": []
          },
          "execution_count": 90
        }
      ]
    },
    {
      "cell_type": "code",
      "metadata": {
        "id": "WxPvtuoML4Xb",
        "colab_type": "code",
        "colab": {}
      },
      "source": [
        "result.to_csv(\"submission.csv\", index=False)"
      ],
      "execution_count": null,
      "outputs": []
    },
    {
      "cell_type": "code",
      "metadata": {
        "id": "Bgei06dsL-ea",
        "colab_type": "code",
        "colab": {
          "base_uri": "https://localhost:8080/",
          "height": 402
        },
        "outputId": "5d0a5080-5718-4952-e4d0-bdacd2777c9f"
      },
      "source": [
        "pd.read_csv(\"submission.csv\")"
      ],
      "execution_count": null,
      "outputs": [
        {
          "output_type": "execute_result",
          "data": {
            "text/html": [
              "<div>\n",
              "<style scoped>\n",
              "    .dataframe tbody tr th:only-of-type {\n",
              "        vertical-align: middle;\n",
              "    }\n",
              "\n",
              "    .dataframe tbody tr th {\n",
              "        vertical-align: top;\n",
              "    }\n",
              "\n",
              "    .dataframe thead th {\n",
              "        text-align: right;\n",
              "    }\n",
              "</style>\n",
              "<table border=\"1\" class=\"dataframe\">\n",
              "  <thead>\n",
              "    <tr style=\"text-align: right;\">\n",
              "      <th></th>\n",
              "      <th>id</th>\n",
              "      <th>trip_duration</th>\n",
              "    </tr>\n",
              "  </thead>\n",
              "  <tbody>\n",
              "    <tr>\n",
              "      <th>0</th>\n",
              "      <td>id3004672</td>\n",
              "      <td>761.05347</td>\n",
              "    </tr>\n",
              "    <tr>\n",
              "      <th>1</th>\n",
              "      <td>id3505355</td>\n",
              "      <td>762.60360</td>\n",
              "    </tr>\n",
              "    <tr>\n",
              "      <th>2</th>\n",
              "      <td>id1217141</td>\n",
              "      <td>470.04153</td>\n",
              "    </tr>\n",
              "    <tr>\n",
              "      <th>3</th>\n",
              "      <td>id2150126</td>\n",
              "      <td>1154.33090</td>\n",
              "    </tr>\n",
              "    <tr>\n",
              "      <th>4</th>\n",
              "      <td>id1598245</td>\n",
              "      <td>422.25100</td>\n",
              "    </tr>\n",
              "    <tr>\n",
              "      <th>...</th>\n",
              "      <td>...</td>\n",
              "      <td>...</td>\n",
              "    </tr>\n",
              "    <tr>\n",
              "      <th>625129</th>\n",
              "      <td>id3008929</td>\n",
              "      <td>264.66943</td>\n",
              "    </tr>\n",
              "    <tr>\n",
              "      <th>625130</th>\n",
              "      <td>id3700764</td>\n",
              "      <td>1208.92580</td>\n",
              "    </tr>\n",
              "    <tr>\n",
              "      <th>625131</th>\n",
              "      <td>id2568735</td>\n",
              "      <td>1465.08920</td>\n",
              "    </tr>\n",
              "    <tr>\n",
              "      <th>625132</th>\n",
              "      <td>id1384355</td>\n",
              "      <td>1607.10120</td>\n",
              "    </tr>\n",
              "    <tr>\n",
              "      <th>625133</th>\n",
              "      <td>id0621643</td>\n",
              "      <td>1093.96330</td>\n",
              "    </tr>\n",
              "  </tbody>\n",
              "</table>\n",
              "<p>625134 rows × 2 columns</p>\n",
              "</div>"
            ],
            "text/plain": [
              "               id  trip_duration\n",
              "0       id3004672      761.05347\n",
              "1       id3505355      762.60360\n",
              "2       id1217141      470.04153\n",
              "3       id2150126     1154.33090\n",
              "4       id1598245      422.25100\n",
              "...           ...            ...\n",
              "625129  id3008929      264.66943\n",
              "625130  id3700764     1208.92580\n",
              "625131  id2568735     1465.08920\n",
              "625132  id1384355     1607.10120\n",
              "625133  id0621643     1093.96330\n",
              "\n",
              "[625134 rows x 2 columns]"
            ]
          },
          "metadata": {
            "tags": []
          },
          "execution_count": 92
        }
      ]
    },
    {
      "cell_type": "code",
      "metadata": {
        "id": "n1qE-zfoMGYA",
        "colab_type": "code",
        "colab": {
          "base_uri": "https://localhost:8080/",
          "height": 67
        },
        "outputId": "ee0100d9-b69d-405e-a839-b4f6d8085866"
      },
      "source": [
        "!kaggle competitions submit -c nyc-taxi-trip-duration -f submission.csv -m 'answerr'"
      ],
      "execution_count": null,
      "outputs": [
        {
          "output_type": "stream",
          "text": [
            "Warning: Looks like you're using an outdated API Version, please consider updating (server 1.5.6 / client 1.5.4)\n",
            "100% 11.7M/11.7M [00:01<00:00, 10.5MB/s]\n",
            "Successfully submitted to New York City Taxi Trip Duration"
          ],
          "name": "stdout"
        }
      ]
    },
    {
      "cell_type": "code",
      "metadata": {
        "id": "ZmsR8nWUMu-1",
        "colab_type": "code",
        "colab": {}
      },
      "source": [
        ""
      ],
      "execution_count": null,
      "outputs": []
    }
  ]
}